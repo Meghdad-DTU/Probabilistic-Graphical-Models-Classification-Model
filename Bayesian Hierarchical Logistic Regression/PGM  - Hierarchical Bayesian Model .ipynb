{
 "cells": [
  {
   "cell_type": "code",
   "execution_count": 427,
   "metadata": {},
   "outputs": [],
   "source": [
    "import numpy as np\n",
    "import pandas as pd\n",
    "import matplotlib.pyplot as plt\n",
    "import pystan\n",
    "import pystan_utils\n",
    "from imblearn.datasets import make_imbalance ## for resampling \n",
    "from sklearn.linear_model import LogisticRegression\n",
    "from sklearn.metrics import confusion_matrix, classification_report"
   ]
  },
  {
   "cell_type": "markdown",
   "metadata": {},
   "source": [
    "### Dataset\n",
    "The dataset consists of survey data collected on the trains between St. Gallen and Geneva, Switzerland, during March 1998. The respondents provided information in order to analyze the impact of the modal innovation in transportation, represented by the Swissmetro. For more information about the data set and the process of data collection please see: \n",
    "\n",
    "Antonini, G., Gioia, C., & Frejinger, E. (2007). Swissmetro: description of the data."
   ]
  },
  {
   "cell_type": "code",
   "execution_count": 294,
   "metadata": {
    "scrolled": true
   },
   "outputs": [
    {
     "name": "stdout",
     "output_type": "stream",
     "text": [
      "No. of rows = 10710, No. of columns = 16\n"
     ]
    },
    {
     "data": {
      "text/html": [
       "<div>\n",
       "<style scoped>\n",
       "    .dataframe tbody tr th:only-of-type {\n",
       "        vertical-align: middle;\n",
       "    }\n",
       "\n",
       "    .dataframe tbody tr th {\n",
       "        vertical-align: top;\n",
       "    }\n",
       "\n",
       "    .dataframe thead th {\n",
       "        text-align: right;\n",
       "    }\n",
       "</style>\n",
       "<table border=\"1\" class=\"dataframe\">\n",
       "  <thead>\n",
       "    <tr style=\"text-align: right;\">\n",
       "      <th></th>\n",
       "      <th>ID</th>\n",
       "      <th>PURPOSE</th>\n",
       "      <th>AGE</th>\n",
       "      <th>GENDER</th>\n",
       "      <th>INCOME</th>\n",
       "      <th>GA</th>\n",
       "      <th>AV.TRAIN</th>\n",
       "      <th>AV.SM</th>\n",
       "      <th>AV.CAR</th>\n",
       "      <th>TT.TRAIN</th>\n",
       "      <th>TT.SM</th>\n",
       "      <th>TT.CAR</th>\n",
       "      <th>CO.TRAIN</th>\n",
       "      <th>CO.SM</th>\n",
       "      <th>CO.CAR</th>\n",
       "      <th>CHOICE</th>\n",
       "    </tr>\n",
       "  </thead>\n",
       "  <tbody>\n",
       "    <tr>\n",
       "      <th>0</th>\n",
       "      <td>1</td>\n",
       "      <td>1</td>\n",
       "      <td>3</td>\n",
       "      <td>0</td>\n",
       "      <td>2</td>\n",
       "      <td>0</td>\n",
       "      <td>1</td>\n",
       "      <td>1</td>\n",
       "      <td>1</td>\n",
       "      <td>1.12</td>\n",
       "      <td>0.63</td>\n",
       "      <td>1.17</td>\n",
       "      <td>0.48</td>\n",
       "      <td>0.52</td>\n",
       "      <td>0.65</td>\n",
       "      <td>SM</td>\n",
       "    </tr>\n",
       "    <tr>\n",
       "      <th>1</th>\n",
       "      <td>1</td>\n",
       "      <td>1</td>\n",
       "      <td>3</td>\n",
       "      <td>0</td>\n",
       "      <td>2</td>\n",
       "      <td>0</td>\n",
       "      <td>1</td>\n",
       "      <td>1</td>\n",
       "      <td>1</td>\n",
       "      <td>1.03</td>\n",
       "      <td>0.60</td>\n",
       "      <td>1.17</td>\n",
       "      <td>0.48</td>\n",
       "      <td>0.49</td>\n",
       "      <td>0.84</td>\n",
       "      <td>SM</td>\n",
       "    </tr>\n",
       "    <tr>\n",
       "      <th>2</th>\n",
       "      <td>1</td>\n",
       "      <td>1</td>\n",
       "      <td>3</td>\n",
       "      <td>0</td>\n",
       "      <td>2</td>\n",
       "      <td>0</td>\n",
       "      <td>1</td>\n",
       "      <td>1</td>\n",
       "      <td>1</td>\n",
       "      <td>1.30</td>\n",
       "      <td>0.67</td>\n",
       "      <td>1.17</td>\n",
       "      <td>0.48</td>\n",
       "      <td>0.58</td>\n",
       "      <td>0.52</td>\n",
       "      <td>SM</td>\n",
       "    </tr>\n",
       "    <tr>\n",
       "      <th>3</th>\n",
       "      <td>1</td>\n",
       "      <td>1</td>\n",
       "      <td>3</td>\n",
       "      <td>0</td>\n",
       "      <td>2</td>\n",
       "      <td>0</td>\n",
       "      <td>1</td>\n",
       "      <td>1</td>\n",
       "      <td>1</td>\n",
       "      <td>1.03</td>\n",
       "      <td>0.63</td>\n",
       "      <td>0.72</td>\n",
       "      <td>0.40</td>\n",
       "      <td>0.52</td>\n",
       "      <td>0.52</td>\n",
       "      <td>SM</td>\n",
       "    </tr>\n",
       "    <tr>\n",
       "      <th>4</th>\n",
       "      <td>1</td>\n",
       "      <td>1</td>\n",
       "      <td>3</td>\n",
       "      <td>0</td>\n",
       "      <td>2</td>\n",
       "      <td>0</td>\n",
       "      <td>1</td>\n",
       "      <td>1</td>\n",
       "      <td>1</td>\n",
       "      <td>1.30</td>\n",
       "      <td>0.63</td>\n",
       "      <td>0.90</td>\n",
       "      <td>0.36</td>\n",
       "      <td>0.42</td>\n",
       "      <td>0.84</td>\n",
       "      <td>SM</td>\n",
       "    </tr>\n",
       "  </tbody>\n",
       "</table>\n",
       "</div>"
      ],
      "text/plain": [
       "   ID  PURPOSE  AGE  GENDER  INCOME  GA  AV.TRAIN  AV.SM  AV.CAR  TT.TRAIN  \\\n",
       "0   1        1    3       0       2   0         1      1       1      1.12   \n",
       "1   1        1    3       0       2   0         1      1       1      1.03   \n",
       "2   1        1    3       0       2   0         1      1       1      1.30   \n",
       "3   1        1    3       0       2   0         1      1       1      1.03   \n",
       "4   1        1    3       0       2   0         1      1       1      1.30   \n",
       "\n",
       "   TT.SM  TT.CAR  CO.TRAIN  CO.SM  CO.CAR CHOICE  \n",
       "0   0.63    1.17      0.48   0.52    0.65     SM  \n",
       "1   0.60    1.17      0.48   0.49    0.84     SM  \n",
       "2   0.67    1.17      0.48   0.58    0.52     SM  \n",
       "3   0.63    0.72      0.40   0.52    0.52     SM  \n",
       "4   0.63    0.90      0.36   0.42    0.84     SM  "
      ]
     },
     "execution_count": 294,
     "metadata": {},
     "output_type": "execute_result"
    }
   ],
   "source": [
    "df = pd.read_csv(\"Swiss_data.csv\")\n",
    "print(\"No. of rows = %d, No. of columns = %d\" % df.shape)\n",
    "df.head()"
   ]
  },
  {
   "cell_type": "code",
   "execution_count": 295,
   "metadata": {},
   "outputs": [
    {
     "name": "stdout",
     "output_type": "stream",
     "text": [
      "ID          0\n",
      "PURPOSE     0\n",
      "AGE         0\n",
      "GENDER      0\n",
      "INCOME      0\n",
      "GA          0\n",
      "AV.TRAIN    0\n",
      "AV.SM       0\n",
      "AV.CAR      0\n",
      "TT.TRAIN    0\n",
      "TT.SM       0\n",
      "TT.CAR      0\n",
      "CO.TRAIN    0\n",
      "CO.SM       0\n",
      "CO.CAR      0\n",
      "CHOICE      0\n",
      "dtype: int64\n"
     ]
    },
    {
     "data": {
      "text/plain": [
       "ID            int64\n",
       "PURPOSE       int64\n",
       "AGE           int64\n",
       "GENDER        int64\n",
       "INCOME        int64\n",
       "GA            int64\n",
       "AV.TRAIN      int64\n",
       "AV.SM         int64\n",
       "AV.CAR        int64\n",
       "TT.TRAIN    float64\n",
       "TT.SM       float64\n",
       "TT.CAR      float64\n",
       "CO.TRAIN    float64\n",
       "CO.SM       float64\n",
       "CO.CAR      float64\n",
       "CHOICE       object\n",
       "dtype: object"
      ]
     },
     "execution_count": 295,
     "metadata": {},
     "output_type": "execute_result"
    }
   ],
   "source": [
    "## inspecting missing values\n",
    "print(df.isnull().sum())\n",
    "## inspecting data types\n",
    "df.dtypes"
   ]
  },
  {
   "cell_type": "markdown",
   "metadata": {},
   "source": [
    "![title](table.png)"
   ]
  },
  {
   "cell_type": "code",
   "execution_count": 296,
   "metadata": {
    "scrolled": true
   },
   "outputs": [
    {
     "data": {
      "image/png": "[encoded data removed]",
      "text/plain": [
       "<Figure size 288x216 with 1 Axes>"
      ]
     },
     "metadata": {
      "needs_background": "light"
     },
     "output_type": "display_data"
    }
   ],
   "source": [
    "no_class = df.CHOICE.value_counts().sort_index().values.tolist()\n",
    "label = df.CHOICE.value_counts().sort_index().index.tolist()\n",
    "def plot_bar_x():\n",
    "    plt.figure(figsize=(4,3))\n",
    "    # this is for plotting purpose\n",
    "    index = np.arange(len(label))\n",
    "    plt.bar(index, no_class,width=.4)\n",
    "    #plt.xlabel('Travel mode')\n",
    "    plt.ylabel('Frequency')\n",
    "    plt.xticks(index, label, rotation=0)\n",
    "    plt.grid(linestyle=\"-.\",axis=\"y\")\n",
    "    plt.title('Distribution of Mode Choice')\n",
    "    plt.show()\n",
    "\n",
    "plot_bar_x()"
   ]
  },
  {
   "cell_type": "markdown",
   "metadata": {},
   "source": [
    "Preprocess data:"
   ]
  },
  {
   "cell_type": "code",
   "execution_count": 297,
   "metadata": {},
   "outputs": [],
   "source": [
    "## Conevert CHOICE column into integer\n",
    "def string_to_int(item):\n",
    "    if item == \"TRAIN\": item = 1\n",
    "    elif item == \"SM\": item = 2\n",
    "    elif item == \"CAR\" : item = 3\n",
    "    return(item)\n",
    "\n",
    "df[\"CHOICE\"] = df[\"CHOICE\"].apply(lambda x: string_to_int(x))"
   ]
  },
  {
   "cell_type": "code",
   "execution_count": 298,
   "metadata": {},
   "outputs": [],
   "source": [
    "## get dummy variables\n",
    "def get_dummy (col_name):\n",
    "    if col_name in df.columns:\n",
    "        uniq = df[col_name].unique()\n",
    "        col_names=[col_name+str(i+1) for i in range(len(uniq))]\n",
    "        dummy_col = pd.get_dummies(df[col_name]).set_axis(col_names,axis=1)\n",
    "        return dummy_col\n",
    "    else:\n",
    "        print(\"Column is not in the dataframe\")"
   ]
  },
  {
   "cell_type": "code",
   "execution_count": 299,
   "metadata": {},
   "outputs": [],
   "source": [
    "Cols = [\"PURPOSE\",\"AGE\",\"INCOME\"]\n",
    "for col in Cols:\n",
    "    df = pd.concat([df,get_dummy(col)],axis =1)\n",
    "    ## remove duplicated columns\n",
    "    df = df.loc[:,~df.columns.duplicated()]\n",
    "## remove \"PURPOSE\", \"AGE\" and \"INCOME\" from the dataset\n",
    "new_df = df.drop(Cols,axis=1)"
   ]
  },
  {
   "cell_type": "code",
   "execution_count": 321,
   "metadata": {
    "scrolled": true
   },
   "outputs": [
    {
     "name": "stdout",
     "output_type": "stream",
     "text": [
      "(10710, 25)\n",
      "(10710,)\n",
      "(10710,)\n"
     ]
    },
    {
     "data": {
      "text/plain": [
       "1192"
      ]
     },
     "execution_count": 321,
     "metadata": {},
     "output_type": "execute_result"
    }
   ],
   "source": [
    "# separate between features/inputs (X) and target/output variables (y)\n",
    "X = new_df.drop([\"ID\",\"CHOICE\"],axis=1).values\n",
    "print(X.shape)\n",
    "y = new_df[\"CHOICE\"].values.astype(\"int\")\n",
    "print(y.shape)\n",
    "ind = new_df[\"ID\"].values.astype(\"int\")\n",
    "print(ind.shape)"
   ]
  },
  {
   "cell_type": "markdown",
   "metadata": {},
   "source": [
    "Train/test split:"
   ]
  },
  {
   "cell_type": "code",
   "execution_count": 302,
   "metadata": {},
   "outputs": [
    {
     "name": "stdout",
     "output_type": "stream",
     "text": [
      "num train: 7068\n",
      "num test: 3642\n"
     ]
    }
   ],
   "source": [
    "train_perc = 0.66 # percentage of training data\n",
    "split_point = int(train_perc*len(y))\n",
    "perm = np.random.permutation(len(y))\n",
    "ix_train = perm[:split_point]\n",
    "ix_test = perm[split_point:]\n",
    "X_train = X[ix_train,:]\n",
    "X_test = X[ix_test,:]\n",
    "ind_train = ind[ix_train]\n",
    "ind_test = ind[ix_test]\n",
    "y_train = y[ix_train]\n",
    "y_test = y[ix_test]\n",
    "print(\"num train: %d\" % len(y_train))\n",
    "print(\"num test: %d\" % len(y_test))"
   ]
  },
  {
   "cell_type": "markdown",
   "metadata": {},
   "source": [
    "#### Oversample minority class:\n",
    "Always split into test and train sets BEFORE trying oversampling techniques! "
   ]
  },
  {
   "cell_type": "code",
   "execution_count": 390,
   "metadata": {},
   "outputs": [
    {
     "data": {
      "text/plain": [
       "{1: 947, 2: 4101, 3: 2020}"
      ]
     },
     "execution_count": 390,
     "metadata": {},
     "output_type": "execute_result"
    }
   ],
   "source": [
    "X0= ind_train.reshape(-1,1)\n",
    "## add ind_train to X_train\n",
    "XX = np.c_[X0,X_train]\n",
    "\n",
    "# Undersampling\n",
    "d = {}\n",
    "for x in y_train:\n",
    "    d[x] = d.get(x,0)+1\n",
    "d"
   ]
  },
  {
   "cell_type": "code",
   "execution_count": 389,
   "metadata": {},
   "outputs": [],
   "source": [
    "XX_rs, y_rs = make_imbalance(XX, y_train, sampling_strategy={1: 947, 2: 1200, 3:1200}, random_state=0)\n",
    "X_rs = XX_rs[:,1:]\n",
    "ind_rs = XX_rs[:,0]"
   ]
  },
  {
   "cell_type": "markdown",
   "metadata": {},
   "source": [
    "### Plate notation"
   ]
  },
  {
   "cell_type": "markdown",
   "metadata": {},
   "source": [
    "![title](PGM_HR.png)"
   ]
  },
  {
   "cell_type": "markdown",
   "metadata": {},
   "source": [
    "### Hierarchical logistic regression in STAN\n",
    "\n",
    "We will now implement a hierarchical logistic regression. The motivation is actually quite simple. Our dataset consists of multiple observations from various individuals. However, when we build our original logistic regression in STAN, our specification assumes that all individuals share a unique set of bias (alpha) coefficients (beta). In other words, this is equivalent to assuming, for example, that all individuals are equally biased towards a given mode (e.g. car). This is obviously a very strong assumption, right? We should allow different individuals to have different biases (alpha). (We could also consider different coefficients per individual, but for the sake of simplicy, we will just focus on the bias parameters)\n",
    "\n",
    "This can be done by placing a hierarchical prior on the intercepts (alpha). The generative process then becomes:\n",
    "\n",
    "1. For each class $c \\in \\{1,\\dots,C\\}$\n",
    "    2. Draw global intercept mean $\\mu_c \\sim \\mathcal{N}(0,10)$\n",
    "    3. Draw global intercept variance $\\sigma_c \\sim \\mbox{Cauchy}(0,10)$\n",
    "    5. Draw coefficients $\\boldsymbol\\beta_c \\sim \\mathcal{N}(\\textbf{0},10 \\, \\textbf{I})$ (this the same as before...)\n",
    "    6. For each individual $i \\in \\{1,\\dots,I\\}$\n",
    "        4. Draw $\\alpha_{i,c}$ such that $\\alpha_{i,c} \\sim \\mathcal{N}(\\mu_c,\\sigma_c)$\n",
    "\n",
    "6. For each data point $n=\\{1,\\dots,N\\}$\n",
    "    7. Draw target class $y_n \\sim \\mbox{Multinomial}(\\mbox{Softmax}(\\textbf{x}_n,\\boldsymbol\\alpha_{i_n},\\boldsymbol\\beta_1,\\dots,\\boldsymbol\\beta_C))$\n",
    "    \n",
    "where $i_n$ is the individual identifier for person $n$, and $\\boldsymbol\\mu=\\{\\mu_1\\dots\\mu_C\\}$ and $\\boldsymbol\\sigma=\\{\\sigma_1\\dots\\sigma_C\\}$.\n",
    "\n",
    "Notice that now, instead of a single intercept per class $\\alpha_c$ for all individual, we now have a vector of intercepts $\\boldsymbol\\alpha_c$ for each class $c$: one intercept parameter per individual! However, all these intercept share a global (population-level) prior.\n",
    "\n",
    "Lets try to implement this in STAN. Can you do it? :-) "
   ]
  },
  {
   "cell_type": "code",
   "execution_count": 372,
   "metadata": {},
   "outputs": [
    {
     "name": "stderr",
     "output_type": "stream",
     "text": [
      "INFO:pystan:COMPILING THE C++ CODE FOR MODEL anon_model_56be2c45d944c892d51ab4312b193f89 NOW.\n"
     ]
    }
   ],
   "source": [
    "# define Stan model\n",
    "STAN_Hierarchy = \"\"\"\n",
    "\n",
    "data {\n",
    "    int<lower=0> N;                     // number of data items\n",
    "    int<lower=1> D;                     // number of predictors\n",
    "    int<lower=1> C;                     // number of classes\n",
    "    int<lower=1> I;                     // number of individuals\n",
    "    int<lower=1> ind[N];                // information about the individual\n",
    "    matrix[N,D] X;                      // predictor matrix\n",
    "    int<lower=1,upper=C> y[N];          // classes vector\n",
    "}\n",
    "parameters {\n",
    "    vector[C] mu_prior;\n",
    "    vector<lower=0>[C] sigma_prior;\n",
    "    matrix[C, I] alpha;                 // intercepts (biases) for each individual \n",
    "    matrix[C, D] beta;                  // coefficients for predictors\n",
    "} \n",
    "model {\n",
    "    for (c in 1:C) {\n",
    "        mu_prior[c] ~ normal(0,10);     // hyper-prior on the intercepts mean\n",
    "        sigma_prior[c] ~ cauchy(0,10);  // hyper-prior on the intercepts variance\n",
    "        beta[c] ~ normal(0,10);         // prior on the coefficients\n",
    "        for (i in 1:I)\n",
    "            alpha[c,i] ~ normal(mu_prior[c], sigma_prior[c]);\n",
    "    }\n",
    "    for (n in 1:N)\n",
    "        y[n] ~ categorical(softmax(alpha[:,ind[n]] + beta * X[n]')); // likelihood\n",
    "}\n",
    "\"\"\"\n",
    "# compile model\n",
    "sm = pystan.StanModel(model_code = STAN_Hierarchy)"
   ]
  },
  {
   "cell_type": "markdown",
   "metadata": {},
   "source": [
    "#### Without resampling:\n",
    "\n",
    "Prepare input data for STAN, compile STAN program and run inference using ADVI (much faster in this case):"
   ]
  },
  {
   "cell_type": "code",
   "execution_count": 397,
   "metadata": {},
   "outputs": [
    {
     "name": "stdout",
     "output_type": "stream",
     "text": [
      "N=7068, D=25, C=3, I=1192\n"
     ]
    }
   ],
   "source": [
    "# prepare data for Stan model\n",
    "N, D = X_train.shape\n",
    "C = int(y_train.max())\n",
    "I = ind.max()\n",
    "print(\"N=%d, D=%d, C=%d, I=%d\" % (N,D,C,I))\n",
    "data = {'N': N, 'D': D, 'C': C, 'I':I, 'ind':ind_train, 'X': X_train, 'y': y_train}"
   ]
  },
  {
   "cell_type": "code",
   "execution_count": 398,
   "metadata": {},
   "outputs": [
    {
     "name": "stderr",
     "output_type": "stream",
     "text": [
      "WARNING:pystan:Automatic Differentiation Variational Inference (ADVI) is an EXPERIMENTAL ALGORITHM.\n",
      "WARNING:pystan:ADVI samples may be found on the filesystem in the file `C:\\Users\\Meghdad\\AppData\\Local\\Temp\\tmpqskpki9r\\output.csv`\n"
     ]
    },
    {
     "name": "stdout",
     "output_type": "stream",
     "text": [
      "Wall time: 8min 42s\n"
     ]
    }
   ],
   "source": [
    "%%time\n",
    "fit = sm.vb(data=data, iter=10000, algorithm=\"meanfield\", grad_samples=10, seed=42, verbose=True)"
   ]
  },
  {
   "cell_type": "markdown",
   "metadata": {},
   "source": [
    "Lets plot the posterior distributions of some of the parameters of our model:"
   ]
  },
  {
   "cell_type": "code",
   "execution_count": 411,
   "metadata": {
    "scrolled": true
   },
   "outputs": [
    {
     "data": {
      "image/png": "[encoded data removed]",
      "text/plain": [
       "<Figure size 432x288 with 1 Axes>"
      ]
     },
     "metadata": {
      "needs_background": "light"
     },
     "output_type": "display_data"
    }
   ],
   "source": [
    "pystan_utils.vb_plot_variables(fit, \"mu_prior\")"
   ]
  },
  {
   "cell_type": "code",
   "execution_count": 410,
   "metadata": {
    "scrolled": true
   },
   "outputs": [
    {
     "data": {
      "image/png": "[encoded data removed]",
      "text/plain": [
       "<Figure size 432x288 with 1 Axes>"
      ]
     },
     "metadata": {
      "needs_background": "light"
     },
     "output_type": "display_data"
    }
   ],
   "source": [
    "pystan_utils.vb_plot_variables(fit, \"sigma_prior\")"
   ]
  },
  {
   "cell_type": "markdown",
   "metadata": {},
   "source": [
    "We can now use the inferred posteriors to make predictions. Lets first use the `pystan_utils` package to extract the expected values of the posterior distribution of the model parameters:"
   ]
  },
  {
   "cell_type": "code",
   "execution_count": 409,
   "metadata": {},
   "outputs": [],
   "source": [
    "# get fitted parameters\n",
    "mu_prior = pystan_utils.vb_extract_variable(fit, \"mu_prior\", var_type=\"vector\")\n",
    "sigma_prior = pystan_utils.vb_extract_variable(fit, \"sigma_prior\", var_type=\"vector\")\n",
    "alpha = pystan_utils.vb_extract_variable(fit, \"alpha\", var_type=\"matrix\", dims=(C,I))\n",
    "beta = pystan_utils.vb_extract_variable(fit, \"beta\", var_type=\"matrix\", dims=(C,D))"
   ]
  },
  {
   "cell_type": "markdown",
   "metadata": {},
   "source": [
    "Using expected values of the parameters, we can make predictions for the testset. However, we need to account for the fact that we now have different bias parameters per-individual, and adapt the code for making predictions accordingly. "
   ]
  },
  {
   "cell_type": "code",
   "execution_count": 408,
   "metadata": {},
   "outputs": [
    {
     "name": "stdout",
     "output_type": "stream",
     "text": [
      "predictions: [2 2 2 ... 2 2 2]\n",
      "true values: [2 2 2 ... 3 1 1]\n"
     ]
    },
    {
     "data": {
      "image/png": "[encoded data removed]",
      "text/plain": [
       "<Figure size 432x288 with 2 Axes>"
      ]
     },
     "metadata": {
      "needs_background": "light"
     },
     "output_type": "display_data"
    },
    {
     "name": "stdout",
     "output_type": "stream",
     "text": [
      "              precision    recall  f1-score   support\n",
      "\n",
      "           1       0.74      0.40      0.52       467\n",
      "           2       0.74      0.92      0.82      2115\n",
      "           3       0.82      0.61      0.70      1060\n",
      "\n",
      "    accuracy                           0.76      3642\n",
      "   macro avg       0.77      0.64      0.68      3642\n",
      "weighted avg       0.77      0.76      0.75      3642\n",
      "\n"
     ]
    }
   ],
   "source": [
    "# make predictions for test set\n",
    "y_hat = alpha[:,ind_test-1] + np.dot(beta, X_test.T)\n",
    "y_hat = np.argmax(y_hat, axis=0) + 1\n",
    "print(\"predictions:\", y_hat)\n",
    "print(\"true values:\", y_test)\n",
    "\n",
    "# evaluate prediction accuracy\n",
    "pystan_utils.plot_confusion_matrix(confusion_matrix(y_test, y_hat),normalize= False, target_names=[1,2,3])\n",
    "class_rep = classification_report(y_test, y_hat)\n",
    "print(class_rep)"
   ]
  },
  {
   "cell_type": "markdown",
   "metadata": {},
   "source": [
    "Given the posterior distributions inferred by STAN, we can even analyse the biases of different individuals identified by our model:"
   ]
  },
  {
   "cell_type": "code",
   "execution_count": 407,
   "metadata": {},
   "outputs": [
    {
     "name": "stdout",
     "output_type": "stream",
     "text": [
      "(3, 1192)\n",
      "0 [ 1.28476506 -0.3707235  -1.78616501]\n",
      "1 [-0.73226133 -0.33973266 -1.16843817]\n",
      "2 [-0.84938072 -0.37817792 -1.33181059]\n",
      "3 [-0.22865109 -0.41059015 -0.90068296]\n",
      "4 [-0.57021049 -0.38382461 -2.79326545]\n",
      "5 [-0.53972786 -0.40159098 -1.95998444]\n",
      "6 [ 1.68951569 -0.40897662 -0.86055062]\n",
      "7 [-0.8953285  -0.44135858  1.61706376]\n",
      "8 [-0.63922197 -0.38852994 -2.18108625]\n",
      "9 [ 0.61306289 -0.3970675  -0.86687781]\n"
     ]
    }
   ],
   "source": [
    "print(alpha.shape)\n",
    "## the first 10 individuals\n",
    "for i in range(10):\n",
    "    print(i, alpha[:,i])"
   ]
  },
  {
   "cell_type": "markdown",
   "metadata": {},
   "source": [
    "Perhaps a histogram allows for a better global analysis:"
   ]
  },
  {
   "cell_type": "code",
   "execution_count": 426,
   "metadata": {
    "scrolled": true
   },
   "outputs": [
    {
     "data": {
      "image/png": "[encoded data removed]",
      "text/plain": [
       "<Figure size 432x288 with 1 Axes>"
      ]
     },
     "metadata": {
      "needs_background": "light"
     },
     "output_type": "display_data"
    }
   ],
   "source": [
    "# histogram of biases towards Train: Mode 1\n",
    "plt.hist(alpha[0,:],bins=30,edgecolor=\"k\")\n",
    "plt.title(\"Biases towards train\")\n",
    "plt.grid(linestyle = \"--\",axis=\"y\")\n",
    "plt.xlabel(\"alpha[0]\")\n",
    "plt.show()"
   ]
  },
  {
   "cell_type": "markdown",
   "metadata": {},
   "source": [
    "We can observe that, for most individuals the biases is around 0. However, we can also see that a few individuals really love travelling with train!"
   ]
  },
  {
   "cell_type": "markdown",
   "metadata": {},
   "source": [
    "#### With undersampling:"
   ]
  },
  {
   "cell_type": "code",
   "execution_count": 393,
   "metadata": {},
   "outputs": [
    {
     "name": "stdout",
     "output_type": "stream",
     "text": [
      "N=3347, D=25, C=3, I=1192\n"
     ]
    }
   ],
   "source": [
    "# prepare data for Stan model\n",
    "N, D = X_rs.shape\n",
    "C = int(y_rs.max())\n",
    "I = int(ind_rs.max())\n",
    "print(\"N=%d, D=%d, C=%d, I=%d\" % (N,D,C,I))\n",
    "data = {'N': N, 'D': D, 'C': C, 'I':I, 'ind':ind_rs.astype(int), 'X': X_rs, 'y': y_rs}"
   ]
  },
  {
   "cell_type": "code",
   "execution_count": 394,
   "metadata": {},
   "outputs": [
    {
     "name": "stderr",
     "output_type": "stream",
     "text": [
      "WARNING:pystan:Automatic Differentiation Variational Inference (ADVI) is an EXPERIMENTAL ALGORITHM.\n",
      "WARNING:pystan:ADVI samples may be found on the filesystem in the file `C:\\Users\\Meghdad\\AppData\\Local\\Temp\\tmp8nu8ycmw\\output.csv`\n"
     ]
    },
    {
     "name": "stdout",
     "output_type": "stream",
     "text": [
      "Wall time: 3min 57s\n"
     ]
    }
   ],
   "source": [
    "%%time\n",
    "fit = sm.vb(data=data, iter=10000, algorithm=\"meanfield\", grad_samples=10, seed=42, verbose=True)"
   ]
  },
  {
   "cell_type": "code",
   "execution_count": 395,
   "metadata": {},
   "outputs": [],
   "source": [
    "# get fitted parameters\n",
    "mu_prior = pystan_utils.vb_extract_variable(fit, \"mu_prior\", var_type=\"vector\")\n",
    "sigma_prior = pystan_utils.vb_extract_variable(fit, \"sigma_prior\", var_type=\"vector\")\n",
    "alpha = pystan_utils.vb_extract_variable(fit, \"alpha\", var_type=\"matrix\", dims=(C,I))\n",
    "beta = pystan_utils.vb_extract_variable(fit, \"beta\", var_type=\"matrix\", dims=(C,D))"
   ]
  },
  {
   "cell_type": "code",
   "execution_count": 396,
   "metadata": {},
   "outputs": [
    {
     "name": "stdout",
     "output_type": "stream",
     "text": [
      "predictions: [1 3 2 ... 3 2 1]\n",
      "true values: [2 2 2 ... 3 1 1]\n"
     ]
    },
    {
     "data": {
      "image/png": "[encoded data removed]",
      "text/plain": [
       "<Figure size 432x288 with 2 Axes>"
      ]
     },
     "metadata": {
      "needs_background": "light"
     },
     "output_type": "display_data"
    },
    {
     "name": "stdout",
     "output_type": "stream",
     "text": [
      "              precision    recall  f1-score   support\n",
      "\n",
      "           1       0.53      0.73      0.62       467\n",
      "           2       0.84      0.64      0.73      2115\n",
      "           3       0.63      0.82      0.71      1060\n",
      "\n",
      "    accuracy                           0.71      3642\n",
      "   macro avg       0.67      0.73      0.69      3642\n",
      "weighted avg       0.74      0.71      0.71      3642\n",
      "\n"
     ]
    }
   ],
   "source": [
    "# make predictions for test set\n",
    "y_hat = alpha[:,ind_test-1] + np.dot(beta, X_test.T)\n",
    "y_hat = np.argmax(y_hat, axis=0) + 1\n",
    "print(\"predictions:\", y_hat)\n",
    "print(\"true values:\", y_test)\n",
    "\n",
    "# evaluate prediction accuracy\n",
    "pystan_utils.plot_confusion_matrix(confusion_matrix(y_test, y_hat),normalize= False, target_names=[1,2,3])\n",
    "class_rep = classification_report(y_test, y_hat)\n",
    "print(class_rep)"
   ]
  },
  {
   "cell_type": "markdown",
   "metadata": {},
   "source": [
    "### Non-Bayesian inference"
   ]
  },
  {
   "cell_type": "code",
   "execution_count": 386,
   "metadata": {
    "scrolled": true
   },
   "outputs": [
    {
     "name": "stdout",
     "output_type": "stream",
     "text": [
      "predictions: [2 2 2 ... 3 2 2]\n",
      "true values: [2 2 2 ... 3 1 1]\n"
     ]
    },
    {
     "data": {
      "image/png": "[encoded data removed]",
      "text/plain": [
       "<Figure size 432x288 with 2 Axes>"
      ]
     },
     "metadata": {
      "needs_background": "light"
     },
     "output_type": "display_data"
    },
    {
     "name": "stdout",
     "output_type": "stream",
     "text": [
      "              precision    recall  f1-score   support\n",
      "\n",
      "           1       0.62      0.30      0.40       467\n",
      "           2       0.70      0.85      0.77      2115\n",
      "           3       0.68      0.53      0.60      1060\n",
      "\n",
      "    accuracy                           0.69      3642\n",
      "   macro avg       0.66      0.56      0.59      3642\n",
      "weighted avg       0.68      0.69      0.67      3642\n",
      "\n"
     ]
    }
   ],
   "source": [
    "# create and fit logistic regression model\n",
    "logreg = LogisticRegression(solver='lbfgs', multi_class='auto',max_iter=2000)\n",
    "logreg.fit(X_train, y_train)\n",
    "\n",
    "# make predictions for test set\n",
    "y_hat = logreg.predict(X_test)\n",
    "print(\"predictions:\", y_hat)\n",
    "print(\"true values:\", y_test)\n",
    "\n",
    "# evaluate prediction accuracy\n",
    "# print(\"Accuracy:\", np.sum(y_hat == y_test) / len(y_test))\n",
    "pystan_utils.plot_confusion_matrix(confusion_matrix(y_test, y_hat),normalize= False, target_names=[1,2,3])\n",
    "class_rep = classification_report(y_test, y_hat)\n",
    "print(class_rep)"
   ]
  }
 ],
 "metadata": {
  "kernelspec": {
   "display_name": "Python 3",
   "language": "python",
   "name": "python3"
  },
  "language_info": {
   "codemirror_mode": {
    "name": "ipython",
    "version": 3
   },
   "file_extension": ".py",
   "mimetype": "text/x-python",
   "name": "python",
   "nbconvert_exporter": "python",
   "pygments_lexer": "ipython3",
   "version": "3.7.7"
  }
 },
 "nbformat": 4,
 "nbformat_minor": 4
}
